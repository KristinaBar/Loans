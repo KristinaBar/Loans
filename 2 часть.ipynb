{
 "cells": [
  {
   "cell_type": "markdown",
   "id": "386f2ae7",
   "metadata": {
    "deletable": false,
    "editable": false,
    "id": "386f2ae7"
   },
   "source": [
    "# Исследование надежности заемщиков\n"
   ]
  },
  {
   "cell_type": "markdown",
   "id": "ffe86f65",
   "metadata": {
    "deletable": false,
    "editable": false,
    "id": "ffe86f65"
   },
   "source": [
    "Во второй части проекта вы выполните шаги 3 и 4. Их вручную проверит ревьюер.\n",
    "Чтобы вам не пришлось писать код заново для шагов 1 и 2, мы добавили авторские решения в ячейки с кодом. \n",
    "\n"
   ]
  },
  {
   "cell_type": "markdown",
   "id": "26613308",
   "metadata": {
    "deletable": false,
    "editable": false,
    "id": "26613308"
   },
   "source": [
    "## Откройте таблицу и изучите общую информацию о данных"
   ]
  },
  {
   "cell_type": "markdown",
   "id": "3c9f838e",
   "metadata": {
    "deletable": false,
    "editable": false,
    "id": "3c9f838e"
   },
   "source": [
    "**Задание 1. Импортируйте библиотеку pandas. Считайте данные из csv-файла в датафрейм и сохраните в переменную `data`. Путь к файлу:**\n",
    "\n",
    "`/datasets/data.csv`"
   ]
  },
  {
   "cell_type": "code",
   "execution_count": 2,
   "id": "77a68a90",
   "metadata": {
    "deletable": false,
    "id": "77a68a90"
   },
   "outputs": [],
   "source": [
    "import pandas as pd\n",
    "\n",
    "try:\n",
    "    data = pd.read_csv('/datasets/data.csv')\n",
    "except:\n",
    "    data = pd.read_csv('https://code.s3.yandex.net/datasets/data.csv')"
   ]
  },
  {
   "cell_type": "markdown",
   "id": "45365635",
   "metadata": {
    "deletable": false,
    "editable": false,
    "id": "45365635"
   },
   "source": [
    "**Задание 2. Выведите первые 20 строчек датафрейма `data` на экран.**"
   ]
  },
  {
   "cell_type": "code",
   "execution_count": 3,
   "id": "b0451a9a",
   "metadata": {
    "deletable": false,
    "id": "b0451a9a",
    "outputId": "1a8f3ef2-d323-4ec2-ddf7-89670b5944c4"
   },
   "outputs": [
    {
     "data": {
      "text/html": [
       "<div>\n",
       "<style scoped>\n",
       "    .dataframe tbody tr th:only-of-type {\n",
       "        vertical-align: middle;\n",
       "    }\n",
       "\n",
       "    .dataframe tbody tr th {\n",
       "        vertical-align: top;\n",
       "    }\n",
       "\n",
       "    .dataframe thead th {\n",
       "        text-align: right;\n",
       "    }\n",
       "</style>\n",
       "<table border=\"1\" class=\"dataframe\">\n",
       "  <thead>\n",
       "    <tr style=\"text-align: right;\">\n",
       "      <th></th>\n",
       "      <th>children</th>\n",
       "      <th>days_employed</th>\n",
       "      <th>dob_years</th>\n",
       "      <th>education</th>\n",
       "      <th>education_id</th>\n",
       "      <th>family_status</th>\n",
       "      <th>family_status_id</th>\n",
       "      <th>gender</th>\n",
       "      <th>income_type</th>\n",
       "      <th>debt</th>\n",
       "      <th>total_income</th>\n",
       "      <th>purpose</th>\n",
       "    </tr>\n",
       "  </thead>\n",
       "  <tbody>\n",
       "    <tr>\n",
       "      <th>0</th>\n",
       "      <td>1</td>\n",
       "      <td>-8437.673028</td>\n",
       "      <td>42</td>\n",
       "      <td>высшее</td>\n",
       "      <td>0</td>\n",
       "      <td>женат / замужем</td>\n",
       "      <td>0</td>\n",
       "      <td>F</td>\n",
       "      <td>сотрудник</td>\n",
       "      <td>0</td>\n",
       "      <td>253875.639453</td>\n",
       "      <td>покупка жилья</td>\n",
       "    </tr>\n",
       "    <tr>\n",
       "      <th>1</th>\n",
       "      <td>1</td>\n",
       "      <td>-4024.803754</td>\n",
       "      <td>36</td>\n",
       "      <td>среднее</td>\n",
       "      <td>1</td>\n",
       "      <td>женат / замужем</td>\n",
       "      <td>0</td>\n",
       "      <td>F</td>\n",
       "      <td>сотрудник</td>\n",
       "      <td>0</td>\n",
       "      <td>112080.014102</td>\n",
       "      <td>приобретение автомобиля</td>\n",
       "    </tr>\n",
       "    <tr>\n",
       "      <th>2</th>\n",
       "      <td>0</td>\n",
       "      <td>-5623.422610</td>\n",
       "      <td>33</td>\n",
       "      <td>Среднее</td>\n",
       "      <td>1</td>\n",
       "      <td>женат / замужем</td>\n",
       "      <td>0</td>\n",
       "      <td>M</td>\n",
       "      <td>сотрудник</td>\n",
       "      <td>0</td>\n",
       "      <td>145885.952297</td>\n",
       "      <td>покупка жилья</td>\n",
       "    </tr>\n",
       "    <tr>\n",
       "      <th>3</th>\n",
       "      <td>3</td>\n",
       "      <td>-4124.747207</td>\n",
       "      <td>32</td>\n",
       "      <td>среднее</td>\n",
       "      <td>1</td>\n",
       "      <td>женат / замужем</td>\n",
       "      <td>0</td>\n",
       "      <td>M</td>\n",
       "      <td>сотрудник</td>\n",
       "      <td>0</td>\n",
       "      <td>267628.550329</td>\n",
       "      <td>дополнительное образование</td>\n",
       "    </tr>\n",
       "    <tr>\n",
       "      <th>4</th>\n",
       "      <td>0</td>\n",
       "      <td>340266.072047</td>\n",
       "      <td>53</td>\n",
       "      <td>среднее</td>\n",
       "      <td>1</td>\n",
       "      <td>гражданский брак</td>\n",
       "      <td>1</td>\n",
       "      <td>F</td>\n",
       "      <td>пенсионер</td>\n",
       "      <td>0</td>\n",
       "      <td>158616.077870</td>\n",
       "      <td>сыграть свадьбу</td>\n",
       "    </tr>\n",
       "    <tr>\n",
       "      <th>5</th>\n",
       "      <td>0</td>\n",
       "      <td>-926.185831</td>\n",
       "      <td>27</td>\n",
       "      <td>высшее</td>\n",
       "      <td>0</td>\n",
       "      <td>гражданский брак</td>\n",
       "      <td>1</td>\n",
       "      <td>M</td>\n",
       "      <td>компаньон</td>\n",
       "      <td>0</td>\n",
       "      <td>255763.565419</td>\n",
       "      <td>покупка жилья</td>\n",
       "    </tr>\n",
       "    <tr>\n",
       "      <th>6</th>\n",
       "      <td>0</td>\n",
       "      <td>-2879.202052</td>\n",
       "      <td>43</td>\n",
       "      <td>высшее</td>\n",
       "      <td>0</td>\n",
       "      <td>женат / замужем</td>\n",
       "      <td>0</td>\n",
       "      <td>F</td>\n",
       "      <td>компаньон</td>\n",
       "      <td>0</td>\n",
       "      <td>240525.971920</td>\n",
       "      <td>операции с жильем</td>\n",
       "    </tr>\n",
       "    <tr>\n",
       "      <th>7</th>\n",
       "      <td>0</td>\n",
       "      <td>-152.779569</td>\n",
       "      <td>50</td>\n",
       "      <td>СРЕДНЕЕ</td>\n",
       "      <td>1</td>\n",
       "      <td>женат / замужем</td>\n",
       "      <td>0</td>\n",
       "      <td>M</td>\n",
       "      <td>сотрудник</td>\n",
       "      <td>0</td>\n",
       "      <td>135823.934197</td>\n",
       "      <td>образование</td>\n",
       "    </tr>\n",
       "    <tr>\n",
       "      <th>8</th>\n",
       "      <td>2</td>\n",
       "      <td>-6929.865299</td>\n",
       "      <td>35</td>\n",
       "      <td>ВЫСШЕЕ</td>\n",
       "      <td>0</td>\n",
       "      <td>гражданский брак</td>\n",
       "      <td>1</td>\n",
       "      <td>F</td>\n",
       "      <td>сотрудник</td>\n",
       "      <td>0</td>\n",
       "      <td>95856.832424</td>\n",
       "      <td>на проведение свадьбы</td>\n",
       "    </tr>\n",
       "    <tr>\n",
       "      <th>9</th>\n",
       "      <td>0</td>\n",
       "      <td>-2188.756445</td>\n",
       "      <td>41</td>\n",
       "      <td>среднее</td>\n",
       "      <td>1</td>\n",
       "      <td>женат / замужем</td>\n",
       "      <td>0</td>\n",
       "      <td>M</td>\n",
       "      <td>сотрудник</td>\n",
       "      <td>0</td>\n",
       "      <td>144425.938277</td>\n",
       "      <td>покупка жилья для семьи</td>\n",
       "    </tr>\n",
       "    <tr>\n",
       "      <th>10</th>\n",
       "      <td>2</td>\n",
       "      <td>-4171.483647</td>\n",
       "      <td>36</td>\n",
       "      <td>высшее</td>\n",
       "      <td>0</td>\n",
       "      <td>женат / замужем</td>\n",
       "      <td>0</td>\n",
       "      <td>M</td>\n",
       "      <td>компаньон</td>\n",
       "      <td>0</td>\n",
       "      <td>113943.491460</td>\n",
       "      <td>покупка недвижимости</td>\n",
       "    </tr>\n",
       "    <tr>\n",
       "      <th>11</th>\n",
       "      <td>0</td>\n",
       "      <td>-792.701887</td>\n",
       "      <td>40</td>\n",
       "      <td>среднее</td>\n",
       "      <td>1</td>\n",
       "      <td>женат / замужем</td>\n",
       "      <td>0</td>\n",
       "      <td>F</td>\n",
       "      <td>сотрудник</td>\n",
       "      <td>0</td>\n",
       "      <td>77069.234271</td>\n",
       "      <td>покупка коммерческой недвижимости</td>\n",
       "    </tr>\n",
       "    <tr>\n",
       "      <th>12</th>\n",
       "      <td>0</td>\n",
       "      <td>NaN</td>\n",
       "      <td>65</td>\n",
       "      <td>среднее</td>\n",
       "      <td>1</td>\n",
       "      <td>гражданский брак</td>\n",
       "      <td>1</td>\n",
       "      <td>M</td>\n",
       "      <td>пенсионер</td>\n",
       "      <td>0</td>\n",
       "      <td>NaN</td>\n",
       "      <td>сыграть свадьбу</td>\n",
       "    </tr>\n",
       "    <tr>\n",
       "      <th>13</th>\n",
       "      <td>0</td>\n",
       "      <td>-1846.641941</td>\n",
       "      <td>54</td>\n",
       "      <td>неоконченное высшее</td>\n",
       "      <td>2</td>\n",
       "      <td>женат / замужем</td>\n",
       "      <td>0</td>\n",
       "      <td>F</td>\n",
       "      <td>сотрудник</td>\n",
       "      <td>0</td>\n",
       "      <td>130458.228857</td>\n",
       "      <td>приобретение автомобиля</td>\n",
       "    </tr>\n",
       "    <tr>\n",
       "      <th>14</th>\n",
       "      <td>0</td>\n",
       "      <td>-1844.956182</td>\n",
       "      <td>56</td>\n",
       "      <td>высшее</td>\n",
       "      <td>0</td>\n",
       "      <td>гражданский брак</td>\n",
       "      <td>1</td>\n",
       "      <td>F</td>\n",
       "      <td>компаньон</td>\n",
       "      <td>1</td>\n",
       "      <td>165127.911772</td>\n",
       "      <td>покупка жилой недвижимости</td>\n",
       "    </tr>\n",
       "    <tr>\n",
       "      <th>15</th>\n",
       "      <td>1</td>\n",
       "      <td>-972.364419</td>\n",
       "      <td>26</td>\n",
       "      <td>среднее</td>\n",
       "      <td>1</td>\n",
       "      <td>женат / замужем</td>\n",
       "      <td>0</td>\n",
       "      <td>F</td>\n",
       "      <td>сотрудник</td>\n",
       "      <td>0</td>\n",
       "      <td>116820.904450</td>\n",
       "      <td>строительство собственной недвижимости</td>\n",
       "    </tr>\n",
       "    <tr>\n",
       "      <th>16</th>\n",
       "      <td>0</td>\n",
       "      <td>-1719.934226</td>\n",
       "      <td>35</td>\n",
       "      <td>среднее</td>\n",
       "      <td>1</td>\n",
       "      <td>женат / замужем</td>\n",
       "      <td>0</td>\n",
       "      <td>F</td>\n",
       "      <td>сотрудник</td>\n",
       "      <td>0</td>\n",
       "      <td>289202.704229</td>\n",
       "      <td>недвижимость</td>\n",
       "    </tr>\n",
       "    <tr>\n",
       "      <th>17</th>\n",
       "      <td>0</td>\n",
       "      <td>-2369.999720</td>\n",
       "      <td>33</td>\n",
       "      <td>высшее</td>\n",
       "      <td>0</td>\n",
       "      <td>гражданский брак</td>\n",
       "      <td>1</td>\n",
       "      <td>M</td>\n",
       "      <td>сотрудник</td>\n",
       "      <td>0</td>\n",
       "      <td>90410.586745</td>\n",
       "      <td>строительство недвижимости</td>\n",
       "    </tr>\n",
       "    <tr>\n",
       "      <th>18</th>\n",
       "      <td>0</td>\n",
       "      <td>400281.136913</td>\n",
       "      <td>53</td>\n",
       "      <td>среднее</td>\n",
       "      <td>1</td>\n",
       "      <td>вдовец / вдова</td>\n",
       "      <td>2</td>\n",
       "      <td>F</td>\n",
       "      <td>пенсионер</td>\n",
       "      <td>0</td>\n",
       "      <td>56823.777243</td>\n",
       "      <td>на покупку подержанного автомобиля</td>\n",
       "    </tr>\n",
       "    <tr>\n",
       "      <th>19</th>\n",
       "      <td>0</td>\n",
       "      <td>-10038.818549</td>\n",
       "      <td>48</td>\n",
       "      <td>СРЕДНЕЕ</td>\n",
       "      <td>1</td>\n",
       "      <td>в разводе</td>\n",
       "      <td>3</td>\n",
       "      <td>F</td>\n",
       "      <td>сотрудник</td>\n",
       "      <td>0</td>\n",
       "      <td>242831.107982</td>\n",
       "      <td>на покупку своего автомобиля</td>\n",
       "    </tr>\n",
       "  </tbody>\n",
       "</table>\n",
       "</div>"
      ],
      "text/plain": [
       "    children  days_employed  dob_years            education  education_id  \\\n",
       "0          1   -8437.673028         42               высшее             0   \n",
       "1          1   -4024.803754         36              среднее             1   \n",
       "2          0   -5623.422610         33              Среднее             1   \n",
       "3          3   -4124.747207         32              среднее             1   \n",
       "4          0  340266.072047         53              среднее             1   \n",
       "5          0    -926.185831         27               высшее             0   \n",
       "6          0   -2879.202052         43               высшее             0   \n",
       "7          0    -152.779569         50              СРЕДНЕЕ             1   \n",
       "8          2   -6929.865299         35               ВЫСШЕЕ             0   \n",
       "9          0   -2188.756445         41              среднее             1   \n",
       "10         2   -4171.483647         36               высшее             0   \n",
       "11         0    -792.701887         40              среднее             1   \n",
       "12         0            NaN         65              среднее             1   \n",
       "13         0   -1846.641941         54  неоконченное высшее             2   \n",
       "14         0   -1844.956182         56               высшее             0   \n",
       "15         1    -972.364419         26              среднее             1   \n",
       "16         0   -1719.934226         35              среднее             1   \n",
       "17         0   -2369.999720         33               высшее             0   \n",
       "18         0  400281.136913         53              среднее             1   \n",
       "19         0  -10038.818549         48              СРЕДНЕЕ             1   \n",
       "\n",
       "       family_status  family_status_id gender income_type  debt  \\\n",
       "0    женат / замужем                 0      F   сотрудник     0   \n",
       "1    женат / замужем                 0      F   сотрудник     0   \n",
       "2    женат / замужем                 0      M   сотрудник     0   \n",
       "3    женат / замужем                 0      M   сотрудник     0   \n",
       "4   гражданский брак                 1      F   пенсионер     0   \n",
       "5   гражданский брак                 1      M   компаньон     0   \n",
       "6    женат / замужем                 0      F   компаньон     0   \n",
       "7    женат / замужем                 0      M   сотрудник     0   \n",
       "8   гражданский брак                 1      F   сотрудник     0   \n",
       "9    женат / замужем                 0      M   сотрудник     0   \n",
       "10   женат / замужем                 0      M   компаньон     0   \n",
       "11   женат / замужем                 0      F   сотрудник     0   \n",
       "12  гражданский брак                 1      M   пенсионер     0   \n",
       "13   женат / замужем                 0      F   сотрудник     0   \n",
       "14  гражданский брак                 1      F   компаньон     1   \n",
       "15   женат / замужем                 0      F   сотрудник     0   \n",
       "16   женат / замужем                 0      F   сотрудник     0   \n",
       "17  гражданский брак                 1      M   сотрудник     0   \n",
       "18    вдовец / вдова                 2      F   пенсионер     0   \n",
       "19         в разводе                 3      F   сотрудник     0   \n",
       "\n",
       "     total_income                                 purpose  \n",
       "0   253875.639453                           покупка жилья  \n",
       "1   112080.014102                 приобретение автомобиля  \n",
       "2   145885.952297                           покупка жилья  \n",
       "3   267628.550329              дополнительное образование  \n",
       "4   158616.077870                         сыграть свадьбу  \n",
       "5   255763.565419                           покупка жилья  \n",
       "6   240525.971920                       операции с жильем  \n",
       "7   135823.934197                             образование  \n",
       "8    95856.832424                   на проведение свадьбы  \n",
       "9   144425.938277                 покупка жилья для семьи  \n",
       "10  113943.491460                    покупка недвижимости  \n",
       "11   77069.234271       покупка коммерческой недвижимости  \n",
       "12            NaN                         сыграть свадьбу  \n",
       "13  130458.228857                 приобретение автомобиля  \n",
       "14  165127.911772              покупка жилой недвижимости  \n",
       "15  116820.904450  строительство собственной недвижимости  \n",
       "16  289202.704229                            недвижимость  \n",
       "17   90410.586745              строительство недвижимости  \n",
       "18   56823.777243      на покупку подержанного автомобиля  \n",
       "19  242831.107982            на покупку своего автомобиля  "
      ]
     },
     "execution_count": 3,
     "metadata": {},
     "output_type": "execute_result"
    }
   ],
   "source": [
    "data.head(20)"
   ]
  },
  {
   "cell_type": "markdown",
   "id": "0ed8f27f",
   "metadata": {
    "deletable": false,
    "editable": false,
    "id": "0ed8f27f"
   },
   "source": [
    "**Задание 3. Выведите основную информацию о датафрейме с помощью метода `info()`.**"
   ]
  },
  {
   "cell_type": "code",
   "execution_count": 4,
   "id": "ab3f863b",
   "metadata": {
    "deletable": false,
    "id": "ab3f863b",
    "outputId": "15376089-8dad-46c9-b520-c05248d43158"
   },
   "outputs": [
    {
     "name": "stdout",
     "output_type": "stream",
     "text": [
      "<class 'pandas.core.frame.DataFrame'>\n",
      "RangeIndex: 21525 entries, 0 to 21524\n",
      "Data columns (total 12 columns):\n",
      " #   Column            Non-Null Count  Dtype  \n",
      "---  ------            --------------  -----  \n",
      " 0   children          21525 non-null  int64  \n",
      " 1   days_employed     19351 non-null  float64\n",
      " 2   dob_years         21525 non-null  int64  \n",
      " 3   education         21525 non-null  object \n",
      " 4   education_id      21525 non-null  int64  \n",
      " 5   family_status     21525 non-null  object \n",
      " 6   family_status_id  21525 non-null  int64  \n",
      " 7   gender            21525 non-null  object \n",
      " 8   income_type       21525 non-null  object \n",
      " 9   debt              21525 non-null  int64  \n",
      " 10  total_income      19351 non-null  float64\n",
      " 11  purpose           21525 non-null  object \n",
      "dtypes: float64(2), int64(5), object(5)\n",
      "memory usage: 2.0+ MB\n"
     ]
    }
   ],
   "source": [
    "data.info()"
   ]
  },
  {
   "cell_type": "markdown",
   "id": "60e3e22d",
   "metadata": {
    "deletable": false,
    "editable": false,
    "id": "60e3e22d"
   },
   "source": [
    "## Предобработка данных"
   ]
  },
  {
   "cell_type": "markdown",
   "id": "03dc170c",
   "metadata": {
    "deletable": false,
    "editable": false,
    "id": "03dc170c"
   },
   "source": [
    "### Удаление пропусков"
   ]
  },
  {
   "cell_type": "markdown",
   "id": "a4f54eef",
   "metadata": {
    "deletable": false,
    "editable": false,
    "id": "a4f54eef"
   },
   "source": [
    "**Задание 4. Выведите количество пропущенных значений для каждого столбца. Используйте комбинацию двух методов.**"
   ]
  },
  {
   "cell_type": "code",
   "execution_count": 5,
   "id": "2dc372b2",
   "metadata": {
    "deletable": false,
    "id": "2dc372b2",
    "outputId": "81f4d817-781c-465c-ed15-91ce4446810d"
   },
   "outputs": [
    {
     "data": {
      "text/plain": [
       "children               0\n",
       "days_employed       2174\n",
       "dob_years              0\n",
       "education              0\n",
       "education_id           0\n",
       "family_status          0\n",
       "family_status_id       0\n",
       "gender                 0\n",
       "income_type            0\n",
       "debt                   0\n",
       "total_income        2174\n",
       "purpose                0\n",
       "dtype: int64"
      ]
     },
     "execution_count": 5,
     "metadata": {},
     "output_type": "execute_result"
    }
   ],
   "source": [
    "data.isna().sum()"
   ]
  },
  {
   "cell_type": "markdown",
   "id": "14f011b1",
   "metadata": {
    "deletable": false,
    "editable": false,
    "id": "14f011b1"
   },
   "source": [
    "**Задание 5. В двух столбцах есть пропущенные значения. Один из них — `days_employed`. Пропуски в этом столбце вы обработаете на следующем этапе. Другой столбец с пропущенными значениями — `total_income` — хранит данные о доходах. На сумму дохода сильнее всего влияет тип занятости, поэтому заполнить пропуски в этом столбце нужно медианным значением по каждому типу из столбца `income_type`. Например, у человека с типом занятости `сотрудник` пропуск в столбце `total_income` должен быть заполнен медианным доходом среди всех записей с тем же типом.**"
   ]
  },
  {
   "cell_type": "code",
   "execution_count": 6,
   "id": "bdabfb6e",
   "metadata": {
    "deletable": false,
    "id": "bdabfb6e"
   },
   "outputs": [],
   "source": [
    "for t in data['income_type'].unique():\n",
    "    data.loc[(data['income_type'] == t) & (data['total_income'].isna()), 'total_income'] = \\\n",
    "    data.loc[(data['income_type'] == t), 'total_income'].median()"
   ]
  },
  {
   "cell_type": "markdown",
   "id": "5be34059",
   "metadata": {
    "deletable": false,
    "editable": false,
    "id": "5be34059"
   },
   "source": [
    "### Обработка аномальных значений"
   ]
  },
  {
   "cell_type": "markdown",
   "id": "a87606cb",
   "metadata": {
    "deletable": false,
    "editable": false,
    "id": "a87606cb"
   },
   "source": [
    "**Задание 6. В данных могут встречаться артефакты (аномалии) — значения, которые не отражают действительность и появились по какой-то ошибке. таким артефактом будет отрицательное количество дней трудового стажа в столбце `days_employed`. Для реальных данных это нормально. Обработайте значения в этом столбце: замените все отрицательные значения положительными с помощью метода `abs()`.**"
   ]
  },
  {
   "cell_type": "code",
   "execution_count": 7,
   "id": "020c46cc",
   "metadata": {
    "deletable": false,
    "id": "020c46cc"
   },
   "outputs": [],
   "source": [
    "data['days_employed'] = data['days_employed'].abs()"
   ]
  },
  {
   "cell_type": "markdown",
   "id": "45538a3a",
   "metadata": {
    "deletable": false,
    "editable": false,
    "id": "45538a3a"
   },
   "source": [
    "**Задание 7. Для каждого типа занятости выведите медианное значение трудового стажа `days_employed` в днях.**"
   ]
  },
  {
   "cell_type": "code",
   "execution_count": 8,
   "id": "cd3e6328",
   "metadata": {
    "deletable": false,
    "id": "cd3e6328",
    "outputId": "801ef80e-522b-4668-f34e-565af7432bcf"
   },
   "outputs": [
    {
     "data": {
      "text/plain": [
       "income_type\n",
       "безработный        366413.652744\n",
       "в декрете            3296.759962\n",
       "госслужащий          2689.368353\n",
       "компаньон            1547.382223\n",
       "пенсионер          365213.306266\n",
       "предприниматель       520.848083\n",
       "сотрудник            1574.202821\n",
       "студент               578.751554\n",
       "Name: days_employed, dtype: float64"
      ]
     },
     "execution_count": 8,
     "metadata": {},
     "output_type": "execute_result"
    }
   ],
   "source": [
    "data.groupby('income_type')['days_employed'].agg('median')"
   ]
  },
  {
   "cell_type": "markdown",
   "id": "90c5f058",
   "metadata": {
    "deletable": false,
    "editable": false,
    "id": "90c5f058"
   },
   "source": [
    "У двух типов (безработные и пенсионеры) получатся аномально большие значения. Исправить такие значения сложно, поэтому оставьте их как есть."
   ]
  },
  {
   "cell_type": "markdown",
   "id": "9652e50d",
   "metadata": {
    "deletable": false,
    "editable": false,
    "id": "9652e50d"
   },
   "source": [
    "**Задание 8. Выведите перечень уникальных значений столбца `children`.**"
   ]
  },
  {
   "cell_type": "code",
   "execution_count": 9,
   "id": "dbb37b8e",
   "metadata": {
    "deletable": false,
    "id": "dbb37b8e",
    "outputId": "6975b15c-7f95-4697-d16d-a0c79b657b03"
   },
   "outputs": [
    {
     "data": {
      "text/plain": [
       "array([ 1,  0,  3,  2, -1,  4, 20,  5])"
      ]
     },
     "execution_count": 9,
     "metadata": {},
     "output_type": "execute_result"
    }
   ],
   "source": [
    "data['children'].unique()"
   ]
  },
  {
   "cell_type": "markdown",
   "id": "2b8b0715",
   "metadata": {
    "deletable": false,
    "editable": false,
    "id": "2b8b0715"
   },
   "source": [
    "**Задание 9. В столбце `children` есть два аномальных значения. Удалите строки, в которых встречаются такие аномальные значения из датафрейма `data`.**"
   ]
  },
  {
   "cell_type": "code",
   "execution_count": 10,
   "id": "20009df8",
   "metadata": {
    "deletable": false,
    "id": "20009df8"
   },
   "outputs": [],
   "source": [
    "data = data[(data['children'] != -1) & (data['children'] != 20)]"
   ]
  },
  {
   "cell_type": "markdown",
   "id": "8c6ac9f1",
   "metadata": {
    "deletable": false,
    "editable": false,
    "id": "8c6ac9f1"
   },
   "source": [
    "**Задание 10. Ещё раз выведите перечень уникальных значений столбца `children`, чтобы убедиться, что артефакты удалены.**"
   ]
  },
  {
   "cell_type": "code",
   "execution_count": 11,
   "id": "07337b81",
   "metadata": {
    "deletable": false,
    "id": "07337b81",
    "outputId": "b2097101-d49d-44d9-901b-32a65c9463d1"
   },
   "outputs": [
    {
     "data": {
      "text/plain": [
       "array([1, 0, 3, 2, 4, 5])"
      ]
     },
     "execution_count": 11,
     "metadata": {},
     "output_type": "execute_result"
    }
   ],
   "source": [
    "data['children'].unique()"
   ]
  },
  {
   "cell_type": "markdown",
   "id": "ee3f52d4",
   "metadata": {
    "deletable": false,
    "editable": false,
    "id": "ee3f52d4"
   },
   "source": [
    "### Удаление пропусков (продолжение)"
   ]
  },
  {
   "cell_type": "markdown",
   "id": "a700b0e4",
   "metadata": {
    "deletable": false,
    "editable": false,
    "id": "a700b0e4"
   },
   "source": [
    "**Задание 11. Заполните пропуски в столбце `days_employed` медианными значениями по каждого типа занятости `income_type`.**"
   ]
  },
  {
   "cell_type": "code",
   "execution_count": 12,
   "id": "61946b83",
   "metadata": {
    "deletable": false,
    "id": "61946b83"
   },
   "outputs": [],
   "source": [
    "for t in data['income_type'].unique():\n",
    "    data.loc[(data['income_type'] == t) & (data['days_employed'].isna()), 'days_employed'] = \\\n",
    "    data.loc[(data['income_type'] == t), 'days_employed'].median()"
   ]
  },
  {
   "cell_type": "markdown",
   "id": "550dcd9b",
   "metadata": {
    "deletable": false,
    "editable": false,
    "id": "550dcd9b"
   },
   "source": [
    "**Задание 12. Убедитесь, что все пропуски заполнены. Проверьте себя и ещё раз выведите количество пропущенных значений для каждого столбца с помощью двух методов.**"
   ]
  },
  {
   "cell_type": "code",
   "execution_count": 13,
   "id": "937c7014",
   "metadata": {
    "deletable": false,
    "id": "937c7014",
    "outputId": "8da1e4e1-358e-4e87-98c9-f261bce0a7b2"
   },
   "outputs": [
    {
     "data": {
      "text/plain": [
       "children            0\n",
       "days_employed       0\n",
       "dob_years           0\n",
       "education           0\n",
       "education_id        0\n",
       "family_status       0\n",
       "family_status_id    0\n",
       "gender              0\n",
       "income_type         0\n",
       "debt                0\n",
       "total_income        0\n",
       "purpose             0\n",
       "dtype: int64"
      ]
     },
     "execution_count": 13,
     "metadata": {},
     "output_type": "execute_result"
    }
   ],
   "source": [
    "data.isna().sum()"
   ]
  },
  {
   "cell_type": "markdown",
   "id": "d522e295",
   "metadata": {
    "deletable": false,
    "editable": false,
    "id": "d522e295"
   },
   "source": [
    "### Изменение типов данных"
   ]
  },
  {
   "cell_type": "markdown",
   "id": "c229c581",
   "metadata": {
    "deletable": false,
    "editable": false,
    "id": "c229c581"
   },
   "source": [
    "**Задание 13. Замените вещественный тип данных в столбце `total_income` на целочисленный с помощью метода `astype()`.**"
   ]
  },
  {
   "cell_type": "code",
   "execution_count": 14,
   "id": "31036462",
   "metadata": {
    "deletable": false,
    "id": "31036462"
   },
   "outputs": [],
   "source": [
    "data['total_income'] = data['total_income'].astype(int)"
   ]
  },
  {
   "cell_type": "markdown",
   "id": "b8e3d1d9",
   "metadata": {
    "deletable": false,
    "editable": false,
    "id": "b8e3d1d9"
   },
   "source": [
    "### Обработка дубликатов"
   ]
  },
  {
   "cell_type": "markdown",
   "id": "9be53c49",
   "metadata": {
    "deletable": false,
    "editable": false,
    "id": "9be53c49"
   },
   "source": [
    "**Задание 14. Обработайте неявные дубликаты в столбце `education`. В этом столбце есть одни и те же значения, но записанные по-разному: с использованием заглавных и строчных букв. Приведите их к нижнему регистру.**"
   ]
  },
  {
   "cell_type": "code",
   "execution_count": 15,
   "id": "d89e73e1",
   "metadata": {
    "deletable": false,
    "id": "d89e73e1"
   },
   "outputs": [],
   "source": [
    "data['education'] = data['education'].str.lower()"
   ]
  },
  {
   "cell_type": "markdown",
   "id": "01d4500e",
   "metadata": {
    "deletable": false,
    "editable": false,
    "id": "01d4500e"
   },
   "source": [
    "**Задание 15. Выведите на экран количество строк-дубликатов в данных. Если такие строки присутствуют, удалите их.**"
   ]
  },
  {
   "cell_type": "code",
   "execution_count": 16,
   "id": "e10efb23",
   "metadata": {
    "deletable": false,
    "id": "e10efb23",
    "outputId": "9684deba-1934-42d1-99e1-cda61740f822"
   },
   "outputs": [
    {
     "data": {
      "text/plain": [
       "71"
      ]
     },
     "execution_count": 16,
     "metadata": {},
     "output_type": "execute_result"
    }
   ],
   "source": [
    "data.duplicated().sum()"
   ]
  },
  {
   "cell_type": "code",
   "execution_count": 17,
   "id": "df853f20",
   "metadata": {
    "deletable": false,
    "id": "df853f20"
   },
   "outputs": [],
   "source": [
    "data = data.drop_duplicates()"
   ]
  },
  {
   "cell_type": "markdown",
   "id": "627be38f",
   "metadata": {
    "deletable": false,
    "editable": false,
    "id": "627be38f"
   },
   "source": [
    "### Категоризация данных"
   ]
  },
  {
   "cell_type": "markdown",
   "id": "4684c3e0",
   "metadata": {
    "deletable": false,
    "editable": false,
    "id": "4684c3e0"
   },
   "source": [
    "**Задание 16. На основании диапазонов, указанных ниже, создайте в датафрейме `data` столбец `total_income_category` с категориями:**\n",
    "\n",
    "- 0–30000 — `'E'`;\n",
    "- 30001–50000 — `'D'`;\n",
    "- 50001–200000 — `'C'`;\n",
    "- 200001–1000000 — `'B'`;\n",
    "- 1000001 и выше — `'A'`.\n",
    "\n",
    "\n",
    "**Например, кредитополучателю с доходом 25000 нужно назначить категорию `'E'`, а клиенту, получающему 235000, — `'B'`. Используйте собственную функцию с именем `categorize_income()` и метод `apply()`.**"
   ]
  },
  {
   "cell_type": "code",
   "execution_count": 18,
   "id": "78965238",
   "metadata": {
    "deletable": false,
    "id": "78965238"
   },
   "outputs": [],
   "source": [
    "def categorize_income(income):\n",
    "    try:\n",
    "        if 0 <= income <= 30000:\n",
    "            return 'E'\n",
    "        elif 30001 <= income <= 50000:\n",
    "            return 'D'\n",
    "        elif 50001 <= income <= 200000:\n",
    "            return 'C'\n",
    "        elif 200001 <= income <= 1000000:\n",
    "            return 'B'\n",
    "        elif income >= 1000001:\n",
    "            return 'A'\n",
    "    except:\n",
    "        pass"
   ]
  },
  {
   "cell_type": "code",
   "execution_count": 19,
   "id": "0980ada1",
   "metadata": {
    "deletable": false,
    "id": "0980ada1"
   },
   "outputs": [],
   "source": [
    "data['total_income_category'] = data['total_income'].apply(categorize_income)"
   ]
  },
  {
   "cell_type": "markdown",
   "id": "9917bba0",
   "metadata": {
    "deletable": false,
    "editable": false,
    "id": "9917bba0"
   },
   "source": [
    "**Задание 17. Выведите на экран перечень уникальных целей взятия кредита из столбца `purpose`.**"
   ]
  },
  {
   "cell_type": "code",
   "execution_count": 20,
   "id": "ee07b65e",
   "metadata": {
    "deletable": false,
    "id": "ee07b65e",
    "outputId": "673c12d9-7d7e-4ae0-9812-c622c89dd244"
   },
   "outputs": [
    {
     "data": {
      "text/plain": [
       "array(['покупка жилья', 'приобретение автомобиля',\n",
       "       'дополнительное образование', 'сыграть свадьбу',\n",
       "       'операции с жильем', 'образование', 'на проведение свадьбы',\n",
       "       'покупка жилья для семьи', 'покупка недвижимости',\n",
       "       'покупка коммерческой недвижимости', 'покупка жилой недвижимости',\n",
       "       'строительство собственной недвижимости', 'недвижимость',\n",
       "       'строительство недвижимости', 'на покупку подержанного автомобиля',\n",
       "       'на покупку своего автомобиля',\n",
       "       'операции с коммерческой недвижимостью',\n",
       "       'строительство жилой недвижимости', 'жилье',\n",
       "       'операции со своей недвижимостью', 'автомобили',\n",
       "       'заняться образованием', 'сделка с подержанным автомобилем',\n",
       "       'получение образования', 'автомобиль', 'свадьба',\n",
       "       'получение дополнительного образования', 'покупка своего жилья',\n",
       "       'операции с недвижимостью', 'получение высшего образования',\n",
       "       'свой автомобиль', 'сделка с автомобилем',\n",
       "       'профильное образование', 'высшее образование',\n",
       "       'покупка жилья для сдачи', 'на покупку автомобиля', 'ремонт жилью',\n",
       "       'заняться высшим образованием'], dtype=object)"
      ]
     },
     "execution_count": 20,
     "metadata": {},
     "output_type": "execute_result"
    }
   ],
   "source": [
    "data['purpose'].unique()"
   ]
  },
  {
   "cell_type": "markdown",
   "id": "52b79d56",
   "metadata": {
    "deletable": false,
    "editable": false,
    "id": "52b79d56"
   },
   "source": [
    "**Задание 18. Создайте функцию, которая на основании данных из столбца `purpose` сформирует новый столбец `purpose_category`, в который войдут следующие категории:**\n",
    "\n",
    "- `'операции с автомобилем'`,\n",
    "- `'операции с недвижимостью'`,\n",
    "- `'проведение свадьбы'`,\n",
    "- `'получение образования'`.\n",
    "\n",
    "**Например, если в столбце `purpose` находится подстрока `'на покупку автомобиля'`, то в столбце `purpose_category` должна появиться строка `'операции с автомобилем'`.**\n",
    "\n",
    "**Используйте собственную функцию с именем `categorize_purpose()` и метод `apply()`. Изучите данные в столбце `purpose` и определите, какие подстроки помогут вам правильно определить категорию.**"
   ]
  },
  {
   "cell_type": "code",
   "execution_count": 21,
   "id": "be41da5d",
   "metadata": {
    "deletable": false,
    "id": "be41da5d"
   },
   "outputs": [],
   "source": [
    "def categorize_purpose(row):\n",
    "    try:\n",
    "        if 'автом' in row:\n",
    "            return 'операции с автомобилем'\n",
    "        elif 'жил' in row or 'недвиж' in row:\n",
    "            return 'операции с недвижимостью'\n",
    "        elif 'свад' in row:\n",
    "            return 'проведение свадьбы'\n",
    "        elif 'образов' in row:\n",
    "            return 'получение образования'\n",
    "    except:\n",
    "        return 'нет категории'"
   ]
  },
  {
   "cell_type": "code",
   "execution_count": 22,
   "id": "94c4a19a",
   "metadata": {
    "deletable": false,
    "id": "94c4a19a"
   },
   "outputs": [],
   "source": [
    "data['purpose_category'] = data['purpose'].apply(categorize_purpose)"
   ]
  },
  {
   "cell_type": "markdown",
   "id": "3d596c34",
   "metadata": {
    "deletable": false,
    "editable": false,
    "id": "3d596c34"
   },
   "source": [
    "### Шаг 3. Исследуйте данные и ответьте на вопросы"
   ]
  },
  {
   "cell_type": "markdown",
   "id": "648db036",
   "metadata": {
    "deletable": false,
    "editable": false,
    "id": "648db036"
   },
   "source": [
    "#### 3.1 Есть ли зависимость между количеством детей и возвратом кредита в срок?"
   ]
  },
  {
   "cell_type": "code",
   "execution_count": 48,
   "id": "7fcff25e",
   "metadata": {
    "deletable": false,
    "id": "7fcff25e",
    "scrolled": true
   },
   "outputs": [
    {
     "data": {
      "text/html": [
       "<div>\n",
       "<style scoped>\n",
       "    .dataframe tbody tr th:only-of-type {\n",
       "        vertical-align: middle;\n",
       "    }\n",
       "\n",
       "    .dataframe tbody tr th {\n",
       "        vertical-align: top;\n",
       "    }\n",
       "\n",
       "    .dataframe thead tr th {\n",
       "        text-align: left;\n",
       "    }\n",
       "\n",
       "    .dataframe thead tr:last-of-type th {\n",
       "        text-align: right;\n",
       "    }\n",
       "</style>\n",
       "<table border=\"1\" class=\"dataframe\">\n",
       "  <thead>\n",
       "    <tr>\n",
       "      <th></th>\n",
       "      <th>Кол-во клиентов</th>\n",
       "      <th>Среднее значение</th>\n",
       "    </tr>\n",
       "    <tr>\n",
       "      <th></th>\n",
       "      <th>debt</th>\n",
       "      <th>debt</th>\n",
       "    </tr>\n",
       "    <tr>\n",
       "      <th>children</th>\n",
       "      <th></th>\n",
       "      <th></th>\n",
       "    </tr>\n",
       "  </thead>\n",
       "  <tbody>\n",
       "    <tr>\n",
       "      <th>0</th>\n",
       "      <td>14091.0</td>\n",
       "      <td>7.543822</td>\n",
       "    </tr>\n",
       "    <tr>\n",
       "      <th>1</th>\n",
       "      <td>4808.0</td>\n",
       "      <td>9.234609</td>\n",
       "    </tr>\n",
       "    <tr>\n",
       "      <th>2</th>\n",
       "      <td>2052.0</td>\n",
       "      <td>9.454191</td>\n",
       "    </tr>\n",
       "    <tr>\n",
       "      <th>3</th>\n",
       "      <td>330.0</td>\n",
       "      <td>8.181818</td>\n",
       "    </tr>\n",
       "    <tr>\n",
       "      <th>4</th>\n",
       "      <td>41.0</td>\n",
       "      <td>9.756098</td>\n",
       "    </tr>\n",
       "    <tr>\n",
       "      <th>5</th>\n",
       "      <td>9.0</td>\n",
       "      <td>0.000000</td>\n",
       "    </tr>\n",
       "    <tr>\n",
       "      <th>Итого</th>\n",
       "      <td>21331.0</td>\n",
       "      <td>44.170538</td>\n",
       "    </tr>\n",
       "  </tbody>\n",
       "</table>\n",
       "</div>"
      ],
      "text/plain": [
       "         Кол-во клиентов Среднее значение\n",
       "                    debt             debt\n",
       "children                                 \n",
       "0                14091.0         7.543822\n",
       "1                 4808.0         9.234609\n",
       "2                 2052.0         9.454191\n",
       "3                  330.0         8.181818\n",
       "4                   41.0         9.756098\n",
       "5                    9.0         0.000000\n",
       "Итого            21331.0        44.170538"
      ]
     },
     "execution_count": 48,
     "metadata": {},
     "output_type": "execute_result"
    }
   ],
   "source": [
    "# Ваш код будет здесь. Вы можете создавать новые ячейки.\n",
    "#data_zavisim = data[['children', 'debt']].value_counts()\n",
    "#data_zavisim = data_zavisim.sort_values(ascending = False)\n",
    "#print(data_zavisim)\n",
    "\n",
    "#создаю пивотку с данными о детях и долге\n",
    "children_debt = data.pivot_table(index=['children'], values='debt', aggfunc= ['count', 'mean'])\n",
    "\n",
    "#привожу среднее значение к более читабельному формату\n",
    "children_debt['mean'] = children_debt['mean']*100\n",
    "\n",
    "#добавляю колонку Итого\n",
    "children_debt.loc['Итого'] = children_debt.sum()\n",
    "\n",
    "#переименовываю колонки\n",
    "children_debt = children_debt.rename(columns={'count':'Кол-во клиентов', 'mean':'Среднее значение'})\n",
    "\n",
    "#вывожу таблицу\n",
    "children_debt"
   ]
  },
  {
   "cell_type": "markdown",
   "id": "2eb9088e",
   "metadata": {
    "deletable": false,
    "id": "2eb9088e"
   },
   "source": [
    "**Вывод:** \n",
    "На экран выведена таблица, показывающая кол-во обратившихся в банк клиентов в разбивке по кол-ву детей.\n",
    "Видно, что:\n",
    "\n",
    "-наибольшее кол-во клиентов не имеющих - не имеют детей - их средневзвешенное значение наименьшее -  они наиболее привлекательны с т.з. будушего возврата кредита.\n",
    "\n",
    "Так же наименьшее среднее значение у клиентов с 5 детьми, но т.к. их всего 9 человек - во внимание мы их не берем."
   ]
  },
  {
   "cell_type": "markdown",
   "id": "74c9b3a7",
   "metadata": {
    "deletable": false,
    "editable": false,
    "id": "74c9b3a7"
   },
   "source": [
    "#### 3.2 Есть ли зависимость между семейным положением и возвратом кредита в срок?"
   ]
  },
  {
   "cell_type": "code",
   "execution_count": 66,
   "id": "8098ab3b",
   "metadata": {
    "deletable": false,
    "id": "8098ab3b"
   },
   "outputs": [
    {
     "data": {
      "text/html": [
       "<div>\n",
       "<style scoped>\n",
       "    .dataframe tbody tr th:only-of-type {\n",
       "        vertical-align: middle;\n",
       "    }\n",
       "\n",
       "    .dataframe tbody tr th {\n",
       "        vertical-align: top;\n",
       "    }\n",
       "\n",
       "    .dataframe thead tr th {\n",
       "        text-align: left;\n",
       "    }\n",
       "\n",
       "    .dataframe thead tr:last-of-type th {\n",
       "        text-align: right;\n",
       "    }\n",
       "</style>\n",
       "<table border=\"1\" class=\"dataframe\">\n",
       "  <thead>\n",
       "    <tr>\n",
       "      <th></th>\n",
       "      <th>Кол-во клиентов</th>\n",
       "      <th>Среднее значение</th>\n",
       "    </tr>\n",
       "    <tr>\n",
       "      <th></th>\n",
       "      <th>debt</th>\n",
       "      <th>debt</th>\n",
       "    </tr>\n",
       "    <tr>\n",
       "      <th>family_status</th>\n",
       "      <th></th>\n",
       "      <th></th>\n",
       "    </tr>\n",
       "  </thead>\n",
       "  <tbody>\n",
       "    <tr>\n",
       "      <th>Не женат / не замужем</th>\n",
       "      <td>2796</td>\n",
       "      <td>9.763948</td>\n",
       "    </tr>\n",
       "    <tr>\n",
       "      <th>в разводе</th>\n",
       "      <td>1189</td>\n",
       "      <td>7.064760</td>\n",
       "    </tr>\n",
       "    <tr>\n",
       "      <th>вдовец / вдова</th>\n",
       "      <td>951</td>\n",
       "      <td>6.624606</td>\n",
       "    </tr>\n",
       "    <tr>\n",
       "      <th>гражданский брак</th>\n",
       "      <td>4134</td>\n",
       "      <td>9.313014</td>\n",
       "    </tr>\n",
       "    <tr>\n",
       "      <th>женат / замужем</th>\n",
       "      <td>12261</td>\n",
       "      <td>7.560558</td>\n",
       "    </tr>\n",
       "  </tbody>\n",
       "</table>\n",
       "</div>"
      ],
      "text/plain": [
       "                      Кол-во клиентов Среднее значение\n",
       "                                 debt             debt\n",
       "family_status                                         \n",
       "Не женат / не замужем            2796         9.763948\n",
       "в разводе                        1189         7.064760\n",
       "вдовец / вдова                    951         6.624606\n",
       "гражданский брак                 4134         9.313014\n",
       "женат / замужем                 12261         7.560558"
      ]
     },
     "execution_count": 66,
     "metadata": {},
     "output_type": "execute_result"
    }
   ],
   "source": [
    "# Ваш код будет здесь. Вы можете создавать новые ячейки.\n",
    "\n",
    "#создаю пивотку с данными о СП и долге\n",
    "status_debt = data.pivot_table(index=['family_status'], values='debt', aggfunc= ['count', 'mean'])\n",
    "\n",
    "#привожу среднее значение к более читабельному формату\n",
    "status_debt['mean'] = status_debt['mean']*100\n",
    "\n",
    "\n",
    "#переименовываю колонки\n",
    "status_debt = status_debt.rename(columns={'count':'Кол-во клиентов', 'mean':'Среднее значение'})\n",
    "\n",
    "#вывожу таблицу\n",
    "status_debt\n"
   ]
  },
  {
   "cell_type": "markdown",
   "id": "c389ca63",
   "metadata": {
    "deletable": false,
    "id": "c389ca63"
   },
   "source": [
    "**Вывод:** \n",
    "Из таблицы мы понимаем, что самая малая доля невозврата кредита - у тех кто в разводе и/или является вдовцом. Но при этом, таких клиентов намного меньше, чем женатых/замужних, хотя доля невозврата у них почти одинаковая.\n",
    "\n",
    "Вывод : наиболее привлекательные заемщики - в статусе женат/замужем"
   ]
  },
  {
   "cell_type": "markdown",
   "id": "9529de68",
   "metadata": {
    "deletable": false,
    "editable": false,
    "id": "9529de68"
   },
   "source": [
    "#### 3.3 Есть ли зависимость между уровнем дохода и возвратом кредита в срок?"
   ]
  },
  {
   "cell_type": "code",
   "execution_count": 93,
   "id": "8787f44a",
   "metadata": {
    "deletable": false,
    "id": "8787f44a"
   },
   "outputs": [
    {
     "data": {
      "text/html": [
       "<div>\n",
       "<style scoped>\n",
       "    .dataframe tbody tr th:only-of-type {\n",
       "        vertical-align: middle;\n",
       "    }\n",
       "\n",
       "    .dataframe tbody tr th {\n",
       "        vertical-align: top;\n",
       "    }\n",
       "\n",
       "    .dataframe thead tr th {\n",
       "        text-align: left;\n",
       "    }\n",
       "\n",
       "    .dataframe thead tr:last-of-type th {\n",
       "        text-align: right;\n",
       "    }\n",
       "</style>\n",
       "<table border=\"1\" class=\"dataframe\">\n",
       "  <thead>\n",
       "    <tr>\n",
       "      <th></th>\n",
       "      <th>Кол-во клиентов</th>\n",
       "      <th>Среднее значение</th>\n",
       "    </tr>\n",
       "    <tr>\n",
       "      <th></th>\n",
       "      <th>debt</th>\n",
       "      <th>debt</th>\n",
       "    </tr>\n",
       "    <tr>\n",
       "      <th>Категория дохода</th>\n",
       "      <th></th>\n",
       "      <th></th>\n",
       "    </tr>\n",
       "  </thead>\n",
       "  <tbody>\n",
       "    <tr>\n",
       "      <th>0 – 30 000</th>\n",
       "      <td>22</td>\n",
       "      <td>9.090909</td>\n",
       "    </tr>\n",
       "    <tr>\n",
       "      <th>1 000 001 и выше</th>\n",
       "      <td>25</td>\n",
       "      <td>8.000000</td>\n",
       "    </tr>\n",
       "    <tr>\n",
       "      <th>200 001 – 1 000 000</th>\n",
       "      <td>5014</td>\n",
       "      <td>7.060231</td>\n",
       "    </tr>\n",
       "    <tr>\n",
       "      <th>30 001 – 50 000</th>\n",
       "      <td>349</td>\n",
       "      <td>6.017192</td>\n",
       "    </tr>\n",
       "    <tr>\n",
       "      <th>50 001 – 200 000</th>\n",
       "      <td>15921</td>\n",
       "      <td>8.498210</td>\n",
       "    </tr>\n",
       "  </tbody>\n",
       "</table>\n",
       "</div>"
      ],
      "text/plain": [
       "                    Кол-во клиентов Среднее значение\n",
       "                               debt             debt\n",
       "Категория дохода                                    \n",
       "0 – 30 000                       22         9.090909\n",
       "1 000 001 и выше                 25         8.000000\n",
       "200 001 – 1 000 000            5014         7.060231\n",
       "30 001 – 50 000                 349         6.017192\n",
       "50 001 – 200 000              15921         8.498210"
      ]
     },
     "execution_count": 93,
     "metadata": {},
     "output_type": "execute_result"
    }
   ],
   "source": [
    "# Ваш код будет здесь. Вы можете создавать новые ячейки.\n",
    "\n",
    "#создам функцию категоризации дохода\n",
    "\n",
    "def categorize_income(income):\n",
    "    try:\n",
    "        if 0 <= income <= 30000:\n",
    "            return '0 – 30 000'\n",
    "        elif 30001 <= income <= 50000:\n",
    "            return '30 001 – 50 000'\n",
    "        elif 50001 <= income <= 200000:\n",
    "            return '50 001 – 200 000'\n",
    "        elif 200001 <= income <= 1000000:\n",
    "            return '200 001 – 1 000 000'\n",
    "        elif income >= 1000001:\n",
    "            return '1 000 001 и выше'\n",
    "    except:\n",
    "        pass\n",
    "    \n",
    "#создам колонку с категориями   \n",
    "data['Категория дохода'] = data['total_income'].apply(categorize_income)\n",
    "\n",
    "\n",
    "#создаю пивотку с данными в разбивке по категории дохода и долге\n",
    "income_debt = data.pivot_table(index=['Категория дохода'], values='debt', aggfunc= ['count', 'mean'])\n",
    "\n",
    "\n",
    "#привожу среднее значение к более читабельному формату\n",
    "income_debt['mean'] = income_debt['mean']*100\n",
    "\n",
    "\n",
    "#переименовываю колонки\n",
    "income_debt = income_debt.rename(columns={'count':'Кол-во клиентов', 'mean':'Среднее значение'})\n",
    "\n",
    "#вывожу таблицу\n",
    "income_debt"
   ]
  },
  {
   "cell_type": "markdown",
   "id": "6dd14b57",
   "metadata": {
    "deletable": false,
    "id": "6dd14b57"
   },
   "source": [
    "**Вывод:** \n",
    "Из таблицы мы понимаем, что самая малая доля невозврата кредита - у тех кто зарабатывает в диапазоне от 30 тр до 50 тр и от 200тр до 1 млн. Но при этом, таких клиентов намного меньше, чем зарабатывающих в диапазоне от 50 до 200к, хотя доля невозврата у них почти одинаковая.\n",
    "\n",
    "Вывод : наиболее привлекательные заемщики - зарабатывающие от 50 001 до 200 000."
   ]
  },
  {
   "cell_type": "markdown",
   "id": "1dcc9b12",
   "metadata": {
    "deletable": false,
    "editable": false,
    "id": "1dcc9b12"
   },
   "source": [
    "#### 3.4 Как разные цели кредита влияют на его возврат в срок?"
   ]
  },
  {
   "cell_type": "code",
   "execution_count": 94,
   "id": "c602bc8b",
   "metadata": {
    "deletable": false,
    "id": "c602bc8b"
   },
   "outputs": [
    {
     "data": {
      "text/html": [
       "<div>\n",
       "<style scoped>\n",
       "    .dataframe tbody tr th:only-of-type {\n",
       "        vertical-align: middle;\n",
       "    }\n",
       "\n",
       "    .dataframe tbody tr th {\n",
       "        vertical-align: top;\n",
       "    }\n",
       "\n",
       "    .dataframe thead tr th {\n",
       "        text-align: left;\n",
       "    }\n",
       "\n",
       "    .dataframe thead tr:last-of-type th {\n",
       "        text-align: right;\n",
       "    }\n",
       "</style>\n",
       "<table border=\"1\" class=\"dataframe\">\n",
       "  <thead>\n",
       "    <tr>\n",
       "      <th></th>\n",
       "      <th>Кол-во клиентов</th>\n",
       "      <th>Среднее значение</th>\n",
       "    </tr>\n",
       "    <tr>\n",
       "      <th></th>\n",
       "      <th>debt</th>\n",
       "      <th>debt</th>\n",
       "    </tr>\n",
       "    <tr>\n",
       "      <th>Цель кредита</th>\n",
       "      <th></th>\n",
       "      <th></th>\n",
       "    </tr>\n",
       "  </thead>\n",
       "  <tbody>\n",
       "    <tr>\n",
       "      <th>операции с автомобилем</th>\n",
       "      <td>4279</td>\n",
       "      <td>9.347978</td>\n",
       "    </tr>\n",
       "    <tr>\n",
       "      <th>операции с недвижимостью</th>\n",
       "      <td>10751</td>\n",
       "      <td>7.255139</td>\n",
       "    </tr>\n",
       "    <tr>\n",
       "      <th>получение образования</th>\n",
       "      <td>3988</td>\n",
       "      <td>9.252758</td>\n",
       "    </tr>\n",
       "    <tr>\n",
       "      <th>проведение свадьбы</th>\n",
       "      <td>2313</td>\n",
       "      <td>7.911803</td>\n",
       "    </tr>\n",
       "  </tbody>\n",
       "</table>\n",
       "</div>"
      ],
      "text/plain": [
       "                         Кол-во клиентов Среднее значение\n",
       "                                    debt             debt\n",
       "Цель кредита                                             \n",
       "операции с автомобилем              4279         9.347978\n",
       "операции с недвижимостью           10751         7.255139\n",
       "получение образования               3988         9.252758\n",
       "проведение свадьбы                  2313         7.911803"
      ]
     },
     "execution_count": 94,
     "metadata": {},
     "output_type": "execute_result"
    }
   ],
   "source": [
    "# Ваш код будет здесь. Вы можете создавать новые ячейки.\n",
    "#создам функцию категоризации цели кредита\n",
    "\n",
    "def categorize_purpose(purpose):\n",
    "    try:\n",
    "        if 'свад' in purpose:\n",
    "            return 'проведение свадьбы'\n",
    "        if 'образован' in purpose:\n",
    "            return 'получение образования'\n",
    "        if 'автомобил' in purpose:\n",
    "            return 'операции с автомобилем'\n",
    "        if 'жил' in purpose or 'недвиж' in purpose:\n",
    "            return 'операции с недвижимостью'\n",
    "        \n",
    "    except:\n",
    "        pass\n",
    "    \n",
    "#создам колонку с категориями   \n",
    "data['Цель кредита'] = data['purpose'].apply(categorize_purpose)\n",
    "\n",
    "\n",
    "#создаю пивотку с данными в разбивке по целям и долге\n",
    "purpose_debt = data.pivot_table(index=['Цель кредита'], values='debt', aggfunc= ['count', 'mean'])\n",
    "\n",
    "\n",
    "#привожу среднее значение к более читабельному формату\n",
    "purpose_debt['mean'] = purpose_debt['mean']*100\n",
    "\n",
    "\n",
    "#переименовываю колонки\n",
    "purpose_debt = purpose_debt.rename(columns={'count':'Кол-во клиентов', 'mean':'Среднее значение'})\n",
    "\n",
    "#вывожу таблицу\n",
    "purpose_debt\n",
    "\n"
   ]
  },
  {
   "cell_type": "markdown",
   "id": "cf05ed63",
   "metadata": {
    "deletable": false,
    "id": "cf05ed63"
   },
   "source": [
    "**Вывод**: автомобиль и образование находятся примерно на одном уровне как по кол-ву клиентов, так и по доле возврата. Наименьшей популярностью пользуется кредит для свадьбы.\n",
    "\n",
    "В итоге, самые привлекательные заемщики - берущие кредит для операций с недвижимостью. Их большинство в выборке и и они имеют самую маленькую долю невозврата. Скорее всего, это связано с тем, что при просрочке кредита на жилья банк может изымать жилье и накладыватьь различные санкции и пени."
   ]
  },
  {
   "cell_type": "markdown",
   "id": "46c1f10b",
   "metadata": {
    "deletable": false,
    "editable": false,
    "id": "46c1f10b"
   },
   "source": [
    "#### 3.5 Приведите возможные причины появления пропусков в исходных данных."
   ]
  },
  {
   "cell_type": "markdown",
   "id": "3697d2a9",
   "metadata": {
    "deletable": false,
    "id": "3697d2a9"
   },
   "source": [
    "*Ответ:* человеческий фактор (пропустили и не вбили данные), технический фактор (произошел сбой и данные слетели), либо данные были пропущены умышленно (например, клиент не хочет делиться какой-то своей информацией)"
   ]
  },
  {
   "cell_type": "markdown",
   "id": "3137d257",
   "metadata": {
    "deletable": false,
    "editable": false,
    "id": "3137d257"
   },
   "source": [
    "#### 3.6 Объясните, почему заполнить пропуски медианным значением — лучшее решение для количественных переменных."
   ]
  },
  {
   "cell_type": "markdown",
   "id": "cf40012a",
   "metadata": {
    "deletable": false,
    "id": "cf40012a"
   },
   "source": [
    "*Ответ:* потому что значения в выборке могут сильно отличаться друг от друга (отличаться в несколько раз, например). Тогда результат будет не показательный и лучше использовать медиану."
   ]
  },
  {
   "cell_type": "markdown",
   "id": "57bc304e",
   "metadata": {
    "deletable": false,
    "editable": false,
    "id": "57bc304e"
   },
   "source": [
    "### Шаг 4: общий вывод."
   ]
  },
  {
   "cell_type": "markdown",
   "id": "f1bc367b",
   "metadata": {},
   "source": [
    "**На этапе обработки данных сделали следующее:**\n",
    "    \n",
    "    \n",
    "- нашли более 2000 пропусков в данных дохода (заполнили их медианным значением в зависимости от должности, чтобы не исказить данные)\n",
    "- нашли отрицательные значения в данных стажа и пропуски (так же заменили медианой)\n",
    "- нашли аномальные (нереальные) данные по кол-ву детей (-1 и 20, удалили их, т.к.это невозможно)\n",
    "- нашли 71 дубликат в инфе по образованию (привели к нижнему регистру, что позволило очистить от них данные)\n",
    "- разбили уровень дохода и цели кредита на категории для наглядности\n",
    "\n",
    "    \n",
    "**Ответы на цели проекта**:\n",
    "    \n",
    "Исходя из всех полученных данных вывод такой, что наиболее привлекательные клиенты те, которые не имеют детей, при этом находятся в браке, зарабатывают от 50 001 до 200 000 и берут кредит для операций с недвижимостью.\n",
    "    \n",
    "    \n",
    "**рекомендации для заказчика**\n",
    "\n",
    "аккуратно проверять вводимые данные во избежание дубликатов и пропусков, обратить внимание на клиентов, которые не имеют детей, при этом находятся в браке, зарабатывают от 50 001 до 200 000 и берут кредит для операций с недвижимостью\n",
    "    "
   ]
  },
  {
   "cell_type": "markdown",
   "id": "1ab75d1c",
   "metadata": {
    "deletable": false,
    "id": "1ab75d1c"
   },
   "source": []
  },
  {
   "cell_type": "code",
   "execution_count": null,
   "id": "77fc0baf",
   "metadata": {},
   "outputs": [],
   "source": []
  }
 ],
 "metadata": {
  "ExecuteTimeLog": [
   {
    "duration": 47,
    "start_time": "2024-02-29T12:37:44.405Z"
   },
   {
    "duration": 468,
    "start_time": "2024-02-29T12:38:19.595Z"
   },
   {
    "duration": 22,
    "start_time": "2024-02-29T12:38:20.064Z"
   },
   {
    "duration": 38,
    "start_time": "2024-02-29T12:38:20.088Z"
   },
   {
    "duration": 23,
    "start_time": "2024-02-29T12:38:20.129Z"
   },
   {
    "duration": 57,
    "start_time": "2024-02-29T12:38:20.154Z"
   },
   {
    "duration": 3,
    "start_time": "2024-02-29T12:38:20.213Z"
   },
   {
    "duration": 32,
    "start_time": "2024-02-29T12:38:20.218Z"
   },
   {
    "duration": 17,
    "start_time": "2024-02-29T12:38:20.252Z"
   },
   {
    "duration": 40,
    "start_time": "2024-02-29T12:38:20.271Z"
   },
   {
    "duration": 50,
    "start_time": "2024-02-29T12:38:20.314Z"
   },
   {
    "duration": 72,
    "start_time": "2024-02-29T12:38:20.365Z"
   },
   {
    "duration": 10,
    "start_time": "2024-02-29T12:38:20.438Z"
   },
   {
    "duration": 43,
    "start_time": "2024-02-29T12:38:20.449Z"
   },
   {
    "duration": 23,
    "start_time": "2024-02-29T12:38:20.494Z"
   },
   {
    "duration": 39,
    "start_time": "2024-02-29T12:38:20.519Z"
   },
   {
    "duration": 16,
    "start_time": "2024-02-29T12:38:20.560Z"
   },
   {
    "duration": 11,
    "start_time": "2024-02-29T12:38:20.578Z"
   },
   {
    "duration": 33,
    "start_time": "2024-02-29T12:38:20.591Z"
   },
   {
    "duration": 27,
    "start_time": "2024-02-29T12:38:20.626Z"
   },
   {
    "duration": 27,
    "start_time": "2024-02-29T12:38:20.655Z"
   },
   {
    "duration": 61,
    "start_time": "2024-02-29T12:38:20.684Z"
   },
   {
    "duration": 25,
    "start_time": "2024-02-29T12:38:23.559Z"
   },
   {
    "duration": 12,
    "start_time": "2024-02-29T12:38:41.232Z"
   },
   {
    "duration": 101,
    "start_time": "2024-02-29T12:38:59.413Z"
   },
   {
    "duration": 4,
    "start_time": "2024-02-29T12:39:03.037Z"
   },
   {
    "duration": 1330,
    "start_time": "2024-02-29T12:39:20.707Z"
   },
   {
    "duration": 3,
    "start_time": "2024-02-29T12:39:49.542Z"
   },
   {
    "duration": 7,
    "start_time": "2024-02-29T12:39:55.245Z"
   },
   {
    "duration": 7,
    "start_time": "2024-02-29T12:40:02.966Z"
   },
   {
    "duration": 4,
    "start_time": "2024-02-29T12:40:18.427Z"
   },
   {
    "duration": 5,
    "start_time": "2024-02-29T12:40:27.553Z"
   },
   {
    "duration": 4,
    "start_time": "2024-02-29T12:40:39.294Z"
   },
   {
    "duration": 1585,
    "start_time": "2024-02-29T12:42:30.702Z"
   },
   {
    "duration": 3,
    "start_time": "2024-02-29T12:43:31.454Z"
   },
   {
    "duration": 7,
    "start_time": "2024-02-29T12:43:49.948Z"
   },
   {
    "duration": 3,
    "start_time": "2024-02-29T12:45:24.347Z"
   },
   {
    "duration": 8,
    "start_time": "2024-02-29T12:45:48.639Z"
   },
   {
    "duration": 6,
    "start_time": "2024-02-29T12:45:53.136Z"
   },
   {
    "duration": 6,
    "start_time": "2024-02-29T12:48:41.494Z"
   },
   {
    "duration": 9,
    "start_time": "2024-02-29T12:48:54.959Z"
   },
   {
    "duration": 9,
    "start_time": "2024-02-29T12:49:49.946Z"
   },
   {
    "duration": 8,
    "start_time": "2024-02-29T12:50:05.361Z"
   },
   {
    "duration": 8,
    "start_time": "2024-02-29T12:50:14.466Z"
   },
   {
    "duration": 6,
    "start_time": "2024-02-29T12:50:23.060Z"
   },
   {
    "duration": 452,
    "start_time": "2024-02-29T12:50:50.737Z"
   },
   {
    "duration": 7,
    "start_time": "2024-02-29T12:53:01.438Z"
   },
   {
    "duration": 417,
    "start_time": "2024-02-29T12:53:26.718Z"
   },
   {
    "duration": 7,
    "start_time": "2024-02-29T12:59:02.400Z"
   },
   {
    "duration": 6,
    "start_time": "2024-02-29T12:59:11.230Z"
   },
   {
    "duration": 3,
    "start_time": "2024-02-29T12:59:52.452Z"
   },
   {
    "duration": 3,
    "start_time": "2024-02-29T13:00:00.309Z"
   },
   {
    "duration": 3,
    "start_time": "2024-02-29T13:00:09.877Z"
   },
   {
    "duration": 8,
    "start_time": "2024-02-29T13:00:43.984Z"
   },
   {
    "duration": 7,
    "start_time": "2024-02-29T13:00:54.303Z"
   },
   {
    "duration": 6,
    "start_time": "2024-02-29T13:01:20.901Z"
   },
   {
    "duration": 6,
    "start_time": "2024-02-29T13:02:58.511Z"
   },
   {
    "duration": 6,
    "start_time": "2024-02-29T13:03:44.934Z"
   },
   {
    "duration": 6,
    "start_time": "2024-02-29T13:06:15.807Z"
   },
   {
    "duration": 7,
    "start_time": "2024-02-29T13:07:15.591Z"
   },
   {
    "duration": 7,
    "start_time": "2024-02-29T13:07:21.558Z"
   },
   {
    "duration": 6,
    "start_time": "2024-02-29T13:07:37.027Z"
   },
   {
    "duration": 3,
    "start_time": "2024-02-29T13:08:14.837Z"
   },
   {
    "duration": 2,
    "start_time": "2024-02-29T13:08:17.568Z"
   },
   {
    "duration": 71,
    "start_time": "2024-02-29T13:08:29.160Z"
   },
   {
    "duration": 14,
    "start_time": "2024-02-29T13:08:29.233Z"
   },
   {
    "duration": 49,
    "start_time": "2024-02-29T13:08:29.248Z"
   },
   {
    "duration": 27,
    "start_time": "2024-02-29T13:08:29.299Z"
   },
   {
    "duration": 77,
    "start_time": "2024-02-29T13:08:29.327Z"
   },
   {
    "duration": 16,
    "start_time": "2024-02-29T13:08:29.405Z"
   },
   {
    "duration": 27,
    "start_time": "2024-02-29T13:08:29.423Z"
   },
   {
    "duration": 35,
    "start_time": "2024-02-29T13:08:29.452Z"
   },
   {
    "duration": 26,
    "start_time": "2024-02-29T13:08:29.488Z"
   },
   {
    "duration": 47,
    "start_time": "2024-02-29T13:08:29.516Z"
   },
   {
    "duration": 61,
    "start_time": "2024-02-29T13:08:29.564Z"
   },
   {
    "duration": 16,
    "start_time": "2024-02-29T13:08:29.627Z"
   },
   {
    "duration": 30,
    "start_time": "2024-02-29T13:08:29.644Z"
   },
   {
    "duration": 41,
    "start_time": "2024-02-29T13:08:29.675Z"
   },
   {
    "duration": 48,
    "start_time": "2024-02-29T13:08:29.717Z"
   },
   {
    "duration": 24,
    "start_time": "2024-02-29T13:08:29.767Z"
   },
   {
    "duration": 5,
    "start_time": "2024-02-29T13:08:29.793Z"
   },
   {
    "duration": 41,
    "start_time": "2024-02-29T13:08:29.799Z"
   },
   {
    "duration": 24,
    "start_time": "2024-02-29T13:08:29.841Z"
   },
   {
    "duration": 36,
    "start_time": "2024-02-29T13:08:29.867Z"
   },
   {
    "duration": 43,
    "start_time": "2024-02-29T13:08:29.904Z"
   },
   {
    "duration": 49,
    "start_time": "2024-02-29T13:08:29.948Z"
   },
   {
    "duration": 16,
    "start_time": "2024-02-29T13:09:39.923Z"
   },
   {
    "duration": 6,
    "start_time": "2024-02-29T13:09:52.630Z"
   },
   {
    "duration": 834,
    "start_time": "2024-02-29T13:10:59.221Z"
   },
   {
    "duration": 10,
    "start_time": "2024-02-29T13:11:24.097Z"
   },
   {
    "duration": 9,
    "start_time": "2024-02-29T13:12:39.972Z"
   },
   {
    "duration": 14,
    "start_time": "2024-02-29T13:18:02.395Z"
   },
   {
    "duration": 14,
    "start_time": "2024-02-29T13:18:34.476Z"
   },
   {
    "duration": 13,
    "start_time": "2024-02-29T13:19:12.331Z"
   },
   {
    "duration": 6,
    "start_time": "2024-02-29T13:19:22.865Z"
   },
   {
    "duration": 7,
    "start_time": "2024-02-29T13:20:36.367Z"
   },
   {
    "duration": 7,
    "start_time": "2024-02-29T13:21:01.146Z"
   },
   {
    "duration": 94,
    "start_time": "2024-02-29T13:21:06.441Z"
   },
   {
    "duration": 8,
    "start_time": "2024-02-29T13:21:13.637Z"
   },
   {
    "duration": 7,
    "start_time": "2024-02-29T13:21:29.865Z"
   },
   {
    "duration": 9,
    "start_time": "2024-02-29T13:22:17.397Z"
   },
   {
    "duration": 8,
    "start_time": "2024-02-29T13:26:25.481Z"
   },
   {
    "duration": 8,
    "start_time": "2024-02-29T13:26:39.251Z"
   },
   {
    "duration": 7,
    "start_time": "2024-02-29T13:26:58.440Z"
   },
   {
    "duration": 7,
    "start_time": "2024-02-29T13:27:02.754Z"
   },
   {
    "duration": 8,
    "start_time": "2024-02-29T13:27:12.722Z"
   },
   {
    "duration": 8,
    "start_time": "2024-02-29T13:27:17.317Z"
   },
   {
    "duration": 10,
    "start_time": "2024-02-29T13:44:17.193Z"
   },
   {
    "duration": 16,
    "start_time": "2024-02-29T13:44:45.385Z"
   },
   {
    "duration": 9,
    "start_time": "2024-02-29T13:45:13.222Z"
   },
   {
    "duration": 47,
    "start_time": "2024-03-01T05:41:15.586Z"
   },
   {
    "duration": 646,
    "start_time": "2024-03-01T05:41:27.729Z"
   },
   {
    "duration": 21,
    "start_time": "2024-03-01T05:41:28.376Z"
   },
   {
    "duration": 33,
    "start_time": "2024-03-01T05:41:28.399Z"
   },
   {
    "duration": 10,
    "start_time": "2024-03-01T05:41:28.434Z"
   },
   {
    "duration": 55,
    "start_time": "2024-03-01T05:41:28.445Z"
   },
   {
    "duration": 3,
    "start_time": "2024-03-01T05:41:28.501Z"
   },
   {
    "duration": 25,
    "start_time": "2024-03-01T05:41:28.505Z"
   },
   {
    "duration": 13,
    "start_time": "2024-03-01T05:41:28.532Z"
   },
   {
    "duration": 37,
    "start_time": "2024-03-01T05:41:28.547Z"
   },
   {
    "duration": 26,
    "start_time": "2024-03-01T05:41:28.586Z"
   },
   {
    "duration": 55,
    "start_time": "2024-03-01T05:41:28.613Z"
   },
   {
    "duration": 10,
    "start_time": "2024-03-01T05:41:28.669Z"
   },
   {
    "duration": 20,
    "start_time": "2024-03-01T05:41:28.680Z"
   },
   {
    "duration": 38,
    "start_time": "2024-03-01T05:41:28.702Z"
   },
   {
    "duration": 50,
    "start_time": "2024-03-01T05:41:28.741Z"
   },
   {
    "duration": 31,
    "start_time": "2024-03-01T05:41:28.792Z"
   },
   {
    "duration": 18,
    "start_time": "2024-03-01T05:41:28.825Z"
   },
   {
    "duration": 41,
    "start_time": "2024-03-01T05:41:28.845Z"
   },
   {
    "duration": 19,
    "start_time": "2024-03-01T05:41:28.887Z"
   },
   {
    "duration": 28,
    "start_time": "2024-03-01T05:41:28.908Z"
   },
   {
    "duration": 66,
    "start_time": "2024-03-01T05:41:28.938Z"
   },
   {
    "duration": 24,
    "start_time": "2024-03-01T05:41:29.006Z"
   },
   {
    "duration": 11,
    "start_time": "2024-03-01T05:44:45.435Z"
   },
   {
    "duration": 36,
    "start_time": "2024-03-01T05:45:06.001Z"
   },
   {
    "duration": 3,
    "start_time": "2024-03-01T05:49:35.176Z"
   },
   {
    "duration": 21,
    "start_time": "2024-03-01T05:50:05.029Z"
   },
   {
    "duration": 25,
    "start_time": "2024-03-01T05:51:48.050Z"
   },
   {
    "duration": 339,
    "start_time": "2024-03-01T05:56:15.954Z"
   },
   {
    "duration": 300,
    "start_time": "2024-03-01T05:56:25.409Z"
   },
   {
    "duration": 22,
    "start_time": "2024-03-01T05:56:34.228Z"
   },
   {
    "duration": 22,
    "start_time": "2024-03-01T05:56:43.773Z"
   },
   {
    "duration": 32,
    "start_time": "2024-03-01T05:59:59.935Z"
   },
   {
    "duration": 8,
    "start_time": "2024-03-01T06:01:14.663Z"
   },
   {
    "duration": 29,
    "start_time": "2024-03-01T06:09:46.829Z"
   },
   {
    "duration": 30,
    "start_time": "2024-03-01T06:10:15.244Z"
   },
   {
    "duration": 84,
    "start_time": "2024-03-01T06:10:21.715Z"
   },
   {
    "duration": 31,
    "start_time": "2024-03-01T06:10:25.659Z"
   },
   {
    "duration": 36,
    "start_time": "2024-03-01T06:10:29.770Z"
   },
   {
    "duration": 45,
    "start_time": "2024-03-01T06:24:31.423Z"
   },
   {
    "duration": 76,
    "start_time": "2024-03-01T06:25:27.352Z"
   },
   {
    "duration": 26,
    "start_time": "2024-03-01T06:25:48.074Z"
   },
   {
    "duration": 27,
    "start_time": "2024-03-01T06:25:57.010Z"
   },
   {
    "duration": 26,
    "start_time": "2024-03-01T06:26:24.988Z"
   },
   {
    "duration": 27,
    "start_time": "2024-03-01T06:26:44.108Z"
   },
   {
    "duration": 32,
    "start_time": "2024-03-01T06:27:15.664Z"
   },
   {
    "duration": 29,
    "start_time": "2024-03-01T06:59:00.269Z"
   },
   {
    "duration": 27,
    "start_time": "2024-03-01T07:02:07.145Z"
   },
   {
    "duration": 22,
    "start_time": "2024-03-01T07:03:38.095Z"
   },
   {
    "duration": 23,
    "start_time": "2024-03-01T07:03:58.289Z"
   },
   {
    "duration": 25,
    "start_time": "2024-03-01T07:04:10.213Z"
   },
   {
    "duration": 24,
    "start_time": "2024-03-01T07:04:34.472Z"
   },
   {
    "duration": 24,
    "start_time": "2024-03-01T07:04:51.633Z"
   },
   {
    "duration": 23,
    "start_time": "2024-03-01T07:05:02.278Z"
   },
   {
    "duration": 24,
    "start_time": "2024-03-01T07:07:25.584Z"
   },
   {
    "duration": 25,
    "start_time": "2024-03-01T07:07:39.965Z"
   },
   {
    "duration": 26,
    "start_time": "2024-03-01T07:08:03.807Z"
   },
   {
    "duration": 27,
    "start_time": "2024-03-01T07:09:15.358Z"
   },
   {
    "duration": 33,
    "start_time": "2024-03-01T07:09:28.968Z"
   },
   {
    "duration": 110,
    "start_time": "2024-03-01T07:10:33.866Z"
   },
   {
    "duration": 26,
    "start_time": "2024-03-01T07:10:37.777Z"
   },
   {
    "duration": 25,
    "start_time": "2024-03-01T07:11:13.293Z"
   },
   {
    "duration": 28,
    "start_time": "2024-03-01T07:22:18.351Z"
   },
   {
    "duration": 24,
    "start_time": "2024-03-01T07:22:30.597Z"
   },
   {
    "duration": 23,
    "start_time": "2024-03-01T07:23:08.984Z"
   },
   {
    "duration": 25,
    "start_time": "2024-03-01T07:24:14.317Z"
   },
   {
    "duration": 33,
    "start_time": "2024-03-01T07:30:22.845Z"
   },
   {
    "duration": 42,
    "start_time": "2024-03-01T07:34:58.106Z"
   },
   {
    "duration": 1274,
    "start_time": "2024-03-01T07:35:25.181Z"
   },
   {
    "duration": 8,
    "start_time": "2024-03-01T07:36:21.306Z"
   },
   {
    "duration": 1229,
    "start_time": "2024-03-01T07:36:50.729Z"
   },
   {
    "duration": 29,
    "start_time": "2024-03-01T07:38:21.768Z"
   },
   {
    "duration": 17,
    "start_time": "2024-03-01T07:39:38.492Z"
   },
   {
    "duration": 254,
    "start_time": "2024-03-01T07:39:50.042Z"
   },
   {
    "duration": 18,
    "start_time": "2024-03-01T07:40:00.047Z"
   },
   {
    "duration": 19,
    "start_time": "2024-03-01T07:40:28.245Z"
   },
   {
    "duration": 18,
    "start_time": "2024-03-01T07:40:40.248Z"
   },
   {
    "duration": 20,
    "start_time": "2024-03-01T07:40:44.854Z"
   },
   {
    "duration": 20,
    "start_time": "2024-03-01T07:41:17.339Z"
   },
   {
    "duration": 31,
    "start_time": "2024-03-01T07:41:55.302Z"
   },
   {
    "duration": 39,
    "start_time": "2024-03-01T07:42:50.954Z"
   },
   {
    "duration": 33,
    "start_time": "2024-03-01T07:43:23.935Z"
   },
   {
    "duration": 33,
    "start_time": "2024-03-01T07:44:08.791Z"
   },
   {
    "duration": 34,
    "start_time": "2024-03-01T07:44:21.408Z"
   },
   {
    "duration": 31,
    "start_time": "2024-03-01T07:45:28.242Z"
   },
   {
    "duration": 38,
    "start_time": "2024-03-01T07:45:33.927Z"
   },
   {
    "duration": 36,
    "start_time": "2024-03-01T07:45:45.634Z"
   },
   {
    "duration": 34,
    "start_time": "2024-03-01T07:45:53.373Z"
   },
   {
    "duration": 33,
    "start_time": "2024-03-01T07:46:52.159Z"
   },
   {
    "duration": 36,
    "start_time": "2024-03-01T07:47:09.890Z"
   },
   {
    "duration": 34,
    "start_time": "2024-03-01T07:47:26.891Z"
   },
   {
    "duration": 32,
    "start_time": "2024-03-01T07:47:34.872Z"
   },
   {
    "duration": 35,
    "start_time": "2024-03-01T07:48:58.337Z"
   },
   {
    "duration": 41,
    "start_time": "2024-03-01T07:55:46.881Z"
   },
   {
    "duration": 70,
    "start_time": "2024-03-01T09:49:06.774Z"
   },
   {
    "duration": 74,
    "start_time": "2024-03-01T09:51:24.362Z"
   },
   {
    "duration": 104,
    "start_time": "2024-03-01T10:06:41.576Z"
   },
   {
    "duration": 132,
    "start_time": "2024-03-01T10:07:22.715Z"
   },
   {
    "duration": 107,
    "start_time": "2024-03-01T10:13:28.380Z"
   },
   {
    "duration": 115,
    "start_time": "2024-03-01T10:13:31.042Z"
   }
  ],
  "colab": {
   "provenance": []
  },
  "kernelspec": {
   "display_name": "Python 3 (ipykernel)",
   "language": "python",
   "name": "python3"
  },
  "language_info": {
   "codemirror_mode": {
    "name": "ipython",
    "version": 3
   },
   "file_extension": ".py",
   "mimetype": "text/x-python",
   "name": "python",
   "nbconvert_exporter": "python",
   "pygments_lexer": "ipython3",
   "version": "3.9.5"
  },
  "toc": {
   "base_numbering": 1,
   "nav_menu": {},
   "number_sections": true,
   "sideBar": true,
   "skip_h1_title": true,
   "title_cell": "Table of Contents",
   "title_sidebar": "Contents",
   "toc_cell": false,
   "toc_position": {},
   "toc_section_display": true,
   "toc_window_display": false
  }
 },
 "nbformat": 4,
 "nbformat_minor": 5
}
